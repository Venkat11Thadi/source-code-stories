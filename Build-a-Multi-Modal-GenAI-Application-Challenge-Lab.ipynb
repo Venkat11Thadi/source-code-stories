{
 "cells": [
  {
   "cell_type": "markdown",
   "id": "8e0d00bb",
   "metadata": {},
   "source": [
    "## Task - 1"
   ]
  },
  {
   "cell_type": "code",
   "execution_count": null,
   "id": "fe52fdea",
   "metadata": {},
   "outputs": [],
   "source": [
    "import vertexai\n",
    "from vertexai.preview.vision_models import ImageGenerationModel\n",
    "\n",
    "def generate_bouquet_image(prompt:str):\n",
    "    project_id = \"project-id\" # enter your project ID here\n",
    "    location = \"region\" # enter your region here\n",
    "    output_file = \"image.jpeg\" # name of your image\n",
    "\n",
    "    vertexai.init(project=project_id, location=location)\n",
    "\n",
    "    model = ImageGenerationModel.from_pretrained(\"imagen-3.0-generate-002\")\n",
    "\n",
    "    images = model.generate_images(\n",
    "        prompt=prompt,\n",
    "        number_of_images=1,\n",
    "        seed=1,\n",
    "        add_watermark=False,\n",
    "    )\n",
    "\n",
    "prompt = \"Create an image containing a bouquet of 2 sunflowers and 3 roses\"\n",
    "generate_bouquet_image(prompt) # this function will now generate an image in local directory\n",
    "# check the progress after running this program..."
   ]
  },
  {
   "cell_type": "markdown",
   "id": "80e4507e",
   "metadata": {},
   "source": [
    "## Task - 2"
   ]
  },
  {
   "cell_type": "code",
   "execution_count": null,
   "id": "27609bc4",
   "metadata": {},
   "outputs": [],
   "source": [
    "import vertexai\n",
    "from vertexai.preview.generative_models import GenerativeModel, Part\n",
    "\n",
    "def analyze_bouquet_image(image_path: str):\n",
    "    project_id = \"enter your project ID\"\n",
    "    location = \"enter your region\"\n",
    "\n",
    "    vertexai.init(project=project_id, location=location)\n",
    "\n",
    "    try:\n",
    "        # get the previously saved image\n",
    "        with open(image_path, \"rb\") as img_file:\n",
    "            image_part = Part.from_data(img_file.read(), mime_type=\"image/jpeg\")\n",
    "\n",
    "        prompt = \"Write a birthday wish based on this bouquet.\" # prompt \n",
    "\n",
    "        model = GenerativeModel(\"gemini-2.0-flash-001\") # use the given model\n",
    "\n",
    "        responses = model.generate_content(\n",
    "            [prompt, image_part],\n",
    "            stream=True\n",
    "        )\n",
    "\n",
    "        for chunk in responses:\n",
    "            if chunk.text:\n",
    "                print(chunk.text, end=\"\", flush=True)\n",
    "\n",
    "    except Exception as e:\n",
    "        print(f\"Error: {e}\")\n",
    "\n",
    "analyze_bouquet_image(\"image.jpeg\") # give the location of the image we previously saved. in this case it's image.jpeg..\n",
    "# check the progress after running the code..\n",
    "# thank you :)"
   ]
  },
  {
   "cell_type": "code",
   "execution_count": null,
   "id": "60394d1f",
   "metadata": {},
   "outputs": [],
   "source": []
  }
 ],
 "metadata": {
  "language_info": {
   "name": "python"
  }
 },
 "nbformat": 4,
 "nbformat_minor": 5
}
